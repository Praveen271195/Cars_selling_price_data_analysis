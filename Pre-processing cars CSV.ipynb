{
 "cells": [
  {
   "cell_type": "code",
   "execution_count": 136,
   "id": "2a8209ee",
   "metadata": {},
   "outputs": [],
   "source": [
    "# Importing required library for data manuplulation\n",
    "import pandas as pd"
   ]
  },
  {
   "cell_type": "code",
   "execution_count": 137,
   "id": "921f83c5",
   "metadata": {},
   "outputs": [
    {
     "name": "stdout",
     "output_type": "stream",
     "text": [
      "<class 'pandas.core.frame.DataFrame'>\n",
      "RangeIndex: 4003 entries, 0 to 4002\n",
      "Data columns (total 6 columns):\n",
      " #   Column           Non-Null Count  Dtype  \n",
      "---  ------           --------------  -----  \n",
      " 0   vehicle_brand    4003 non-null   object \n",
      " 1   year             4003 non-null   int64  \n",
      " 2   engine_capacity  4003 non-null   float64\n",
      " 3   miles_driven     4003 non-null   int64  \n",
      " 4   selling_price    4003 non-null   float64\n",
      " 5   pin_code         4003 non-null   object \n",
      "dtypes: float64(2), int64(2), object(2)\n",
      "memory usage: 187.8+ KB\n"
     ]
    }
   ],
   "source": [
    "# Reading the CSV file for data pre-processing\n",
    "cars_data = pd.read_csv(r\"/Users/praveen/Desktop/Stats Project/cars.csv\")\n",
    "# Displays the basics of the dataset\n",
    "cars_data.info()"
   ]
  },
  {
   "cell_type": "code",
   "execution_count": 138,
   "id": "55d08c11",
   "metadata": {},
   "outputs": [
    {
     "data": {
      "text/html": [
       "<div>\n",
       "<style scoped>\n",
       "    .dataframe tbody tr th:only-of-type {\n",
       "        vertical-align: middle;\n",
       "    }\n",
       "\n",
       "    .dataframe tbody tr th {\n",
       "        vertical-align: top;\n",
       "    }\n",
       "\n",
       "    .dataframe thead th {\n",
       "        text-align: right;\n",
       "    }\n",
       "</style>\n",
       "<table border=\"1\" class=\"dataframe\">\n",
       "  <thead>\n",
       "    <tr style=\"text-align: right;\">\n",
       "      <th></th>\n",
       "      <th>vehicle_brand</th>\n",
       "      <th>year</th>\n",
       "      <th>engine_capacity</th>\n",
       "      <th>miles_driven</th>\n",
       "      <th>selling_price</th>\n",
       "      <th>pin_code</th>\n",
       "    </tr>\n",
       "  </thead>\n",
       "  <tbody>\n",
       "    <tr>\n",
       "      <th>0</th>\n",
       "      <td>Mercedes-Benz</td>\n",
       "      <td>2016</td>\n",
       "      <td>6.3</td>\n",
       "      <td>1</td>\n",
       "      <td>222000.0</td>\n",
       "      <td>48067</td>\n",
       "    </tr>\n",
       "    <tr>\n",
       "      <th>1</th>\n",
       "      <td>Mercedes-Benz</td>\n",
       "      <td>2016</td>\n",
       "      <td>5.5</td>\n",
       "      <td>1</td>\n",
       "      <td>177000.0</td>\n",
       "      <td>70072</td>\n",
       "    </tr>\n",
       "    <tr>\n",
       "      <th>2</th>\n",
       "      <td>Mercedes-Benz</td>\n",
       "      <td>2016</td>\n",
       "      <td>5.5</td>\n",
       "      <td>1</td>\n",
       "      <td>177777.0</td>\n",
       "      <td>32793</td>\n",
       "    </tr>\n",
       "    <tr>\n",
       "      <th>3</th>\n",
       "      <td>Mercedes-Benz</td>\n",
       "      <td>2016</td>\n",
       "      <td>5.5</td>\n",
       "      <td>1</td>\n",
       "      <td>199999.0</td>\n",
       "      <td>22903</td>\n",
       "    </tr>\n",
       "    <tr>\n",
       "      <th>4</th>\n",
       "      <td>Mercedes-Benz</td>\n",
       "      <td>2016</td>\n",
       "      <td>5.5</td>\n",
       "      <td>1</td>\n",
       "      <td>199999.0</td>\n",
       "      <td>95350</td>\n",
       "    </tr>\n",
       "  </tbody>\n",
       "</table>\n",
       "</div>"
      ],
      "text/plain": [
       "   vehicle_brand  year  engine_capacity  miles_driven  selling_price pin_code\n",
       "0  Mercedes-Benz  2016              6.3             1       222000.0    48067\n",
       "1  Mercedes-Benz  2016              5.5             1       177000.0    70072\n",
       "2  Mercedes-Benz  2016              5.5             1       177777.0    32793\n",
       "3  Mercedes-Benz  2016              5.5             1       199999.0    22903\n",
       "4  Mercedes-Benz  2016              5.5             1       199999.0    95350"
      ]
     },
     "execution_count": 138,
     "metadata": {},
     "output_type": "execute_result"
    }
   ],
   "source": [
    "# Displays the first 5 observations of the dataset\n",
    "cars_data.head()"
   ]
  },
  {
   "cell_type": "code",
   "execution_count": 139,
   "id": "6e65637b",
   "metadata": {},
   "outputs": [],
   "source": [
    "# Removing the pin-code column to make the dataset more simple\n",
    "columns_to_be_dropped = [\"pin_code\"]\n",
    "# Drops the said column\n",
    "cars_data.drop(labels=columns_to_be_dropped, axis = 1, inplace=True)"
   ]
  },
  {
   "cell_type": "code",
   "execution_count": 140,
   "id": "8ec615ef",
   "metadata": {},
   "outputs": [
    {
     "name": "stdout",
     "output_type": "stream",
     "text": [
      "Shape of the dataset:  (4003, 5)\n"
     ]
    },
    {
     "data": {
      "text/html": [
       "<div>\n",
       "<style scoped>\n",
       "    .dataframe tbody tr th:only-of-type {\n",
       "        vertical-align: middle;\n",
       "    }\n",
       "\n",
       "    .dataframe tbody tr th {\n",
       "        vertical-align: top;\n",
       "    }\n",
       "\n",
       "    .dataframe thead th {\n",
       "        text-align: right;\n",
       "    }\n",
       "</style>\n",
       "<table border=\"1\" class=\"dataframe\">\n",
       "  <thead>\n",
       "    <tr style=\"text-align: right;\">\n",
       "      <th></th>\n",
       "      <th>vehicle_brand</th>\n",
       "      <th>year</th>\n",
       "      <th>engine_capacity</th>\n",
       "      <th>miles_driven</th>\n",
       "      <th>selling_price</th>\n",
       "    </tr>\n",
       "  </thead>\n",
       "  <tbody>\n",
       "    <tr>\n",
       "      <th>0</th>\n",
       "      <td>Mercedes-Benz</td>\n",
       "      <td>2016</td>\n",
       "      <td>6.3</td>\n",
       "      <td>1</td>\n",
       "      <td>222000.0</td>\n",
       "    </tr>\n",
       "    <tr>\n",
       "      <th>1</th>\n",
       "      <td>Mercedes-Benz</td>\n",
       "      <td>2016</td>\n",
       "      <td>5.5</td>\n",
       "      <td>1</td>\n",
       "      <td>177000.0</td>\n",
       "    </tr>\n",
       "    <tr>\n",
       "      <th>2</th>\n",
       "      <td>Mercedes-Benz</td>\n",
       "      <td>2016</td>\n",
       "      <td>5.5</td>\n",
       "      <td>1</td>\n",
       "      <td>177777.0</td>\n",
       "    </tr>\n",
       "    <tr>\n",
       "      <th>3</th>\n",
       "      <td>Mercedes-Benz</td>\n",
       "      <td>2016</td>\n",
       "      <td>5.5</td>\n",
       "      <td>1</td>\n",
       "      <td>199999.0</td>\n",
       "    </tr>\n",
       "    <tr>\n",
       "      <th>4</th>\n",
       "      <td>Mercedes-Benz</td>\n",
       "      <td>2016</td>\n",
       "      <td>5.5</td>\n",
       "      <td>1</td>\n",
       "      <td>199999.0</td>\n",
       "    </tr>\n",
       "  </tbody>\n",
       "</table>\n",
       "</div>"
      ],
      "text/plain": [
       "   vehicle_brand  year  engine_capacity  miles_driven  selling_price\n",
       "0  Mercedes-Benz  2016              6.3             1       222000.0\n",
       "1  Mercedes-Benz  2016              5.5             1       177000.0\n",
       "2  Mercedes-Benz  2016              5.5             1       177777.0\n",
       "3  Mercedes-Benz  2016              5.5             1       199999.0\n",
       "4  Mercedes-Benz  2016              5.5             1       199999.0"
      ]
     },
     "execution_count": 140,
     "metadata": {},
     "output_type": "execute_result"
    }
   ],
   "source": [
    "# Displays the no. of rows and columns of the dataset\n",
    "print(\"Shape of the dataset: \", cars_data.shape)\n",
    "# Displays the top 5 observations after dropping the said column \n",
    "cars_data.head()"
   ]
  },
  {
   "cell_type": "code",
   "execution_count": 141,
   "id": "48969352",
   "metadata": {},
   "outputs": [
    {
     "name": "stdout",
     "output_type": "stream",
     "text": [
      "No. of rows in the dataset before removing the duplicate observations:  4003\n",
      "No. of rows in the dataset after removing the duplicate observations:  3924\n"
     ]
    }
   ],
   "source": [
    "# Removing the dupicate observations from the dataset\n",
    "print(\"No. of rows in the dataset before removing the duplicate observations: \", cars_data.shape[0])\n",
    "cars_data.drop_duplicates(subset=None, keep='first', inplace=True)\n",
    "\n",
    "# Displaying the number of rows/observations after removing duplicates\n",
    "print(\"No. of rows in the dataset after removing the duplicate observations: \", cars_data.shape[0])"
   ]
  },
  {
   "cell_type": "markdown",
   "id": "71fcc4f5",
   "metadata": {},
   "source": [
    "# Random Sampling from the Big dataset"
   ]
  },
  {
   "cell_type": "code",
   "execution_count": 142,
   "id": "087eafda",
   "metadata": {},
   "outputs": [
    {
     "name": "stdout",
     "output_type": "stream",
     "text": [
      "Current shape of the dataset:  (901, 5)\n",
      "Total number of observations after pulling 22.97% of the orginal observations:  901\n"
     ]
    }
   ],
   "source": [
    "# Random sampling: Takes the 22.97% of random samples of the entire dataset \n",
    "cars_data = cars_data.sample(frac = 0.2297)\n",
    "\n",
    "# Number of rows and columns\n",
    "print(\"Current shape of the dataset: \", cars_data.shape)\n",
    "# Number of rows of the dataset\n",
    "print(\"Total number of observations after pulling 22.97% of the orginal observations: \" ,cars_data.shape[0])"
   ]
  },
  {
   "cell_type": "code",
   "execution_count": 143,
   "id": "384dbf13",
   "metadata": {},
   "outputs": [
    {
     "name": "stdout",
     "output_type": "stream",
     "text": [
      "<class 'pandas.core.frame.DataFrame'>\n",
      "Int64Index: 901 entries, 1345 to 1201\n",
      "Data columns (total 5 columns):\n",
      " #   Column           Non-Null Count  Dtype  \n",
      "---  ------           --------------  -----  \n",
      " 0   vehicle_brand    901 non-null    object \n",
      " 1   year             901 non-null    int64  \n",
      " 2   engine_capacity  901 non-null    float64\n",
      " 3   miles_driven     901 non-null    int64  \n",
      " 4   selling_price    901 non-null    float64\n",
      "dtypes: float64(2), int64(2), object(1)\n",
      "memory usage: 42.2+ KB\n"
     ]
    }
   ],
   "source": [
    "cars_data.info() # We do not have any null or empty values"
   ]
  },
  {
   "cell_type": "code",
   "execution_count": 144,
   "id": "613a253e",
   "metadata": {},
   "outputs": [
    {
     "name": "stdout",
     "output_type": "stream",
     "text": [
      "Succefully saved the modifed final pre-processed dataset in directory..\n"
     ]
    }
   ],
   "source": [
    "# Changing the position and the names of the columns of the dataset\n",
    "final_cars_data = cars_data[[\"vehicle_brand\",\"year\",\"engine_capacity\",\"miles_driven\",\"selling_price\"]]\n",
    "\n",
    "# Saving it as a final dataset in directory\n",
    "final_cars_data.to_csv(r'cars_final_data.csv', index = False)\n",
    "\n",
    "# Temp dataframe is created for testing purpose\n",
    "temp = pd.read_csv(r\"cars_final_data.csv\")\n",
    "# Prints the success message if the file has been saved in the directory\n",
    "if(not temp.empty):\n",
    "    print(\"Succefully saved the modifed final pre-processed dataset in directory..\")"
   ]
  }
 ],
 "metadata": {
  "kernelspec": {
   "display_name": "Python 3 (ipykernel)",
   "language": "python",
   "name": "python3"
  },
  "language_info": {
   "codemirror_mode": {
    "name": "ipython",
    "version": 3
   },
   "file_extension": ".py",
   "mimetype": "text/x-python",
   "name": "python",
   "nbconvert_exporter": "python",
   "pygments_lexer": "ipython3",
   "version": "3.9.7"
  }
 },
 "nbformat": 4,
 "nbformat_minor": 5
}
